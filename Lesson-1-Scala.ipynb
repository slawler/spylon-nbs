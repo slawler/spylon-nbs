{
 "cells": [
  {
   "cell_type": "markdown",
   "metadata": {},
   "source": [
    "# Intro to Scala\n",
    "\n",
    "*Using the spylon kernel with Spark*"
   ]
  },
  {
   "cell_type": "code",
   "execution_count": 1,
   "metadata": {},
   "outputs": [],
   "source": [
    "%%init_spark\n",
    "launcher.num_executors = 4\n",
    "launcher.executor_cores = 4\n",
    "launcher.driver_memory = '8g'\n",
    "launcher.conf.set(\"spark.sql.catalogImplementation\", \"hive\")"
   ]
  },
  {
   "cell_type": "code",
   "execution_count": 2,
   "metadata": {},
   "outputs": [
    {
     "data": {
      "text/plain": [
       "Intitializing Scala interpreter ..."
      ]
     },
     "metadata": {},
     "output_type": "display_data"
    },
    {
     "data": {
      "text/plain": [
       "Spark Web UI available at http://host.docker.internal:4040\n",
       "SparkContext available as 'sc' (version = 2.4.0, master = local[*], app id = local-1546090974031)\n",
       "SparkSession available as 'spark'\n"
      ]
     },
     "metadata": {},
     "output_type": "display_data"
    },
    {
     "data": {
      "text/plain": [
       "res0: org.apache.spark.sql.SparkSession = org.apache.spark.sql.SparkSession@313561b4\n"
      ]
     },
     "execution_count": 2,
     "metadata": {},
     "output_type": "execute_result"
    }
   ],
   "source": [
    "spark"
   ]
  },
  {
   "cell_type": "markdown",
   "metadata": {},
   "source": [
    "[Intro to scala & spark blog](https://www.analyticsvidhya.com/blog/2017/01/scala/)"
   ]
  },
  {
   "cell_type": "markdown",
   "metadata": {},
   "source": [
    "### Strings, Arrays & Lists"
   ]
  },
  {
   "cell_type": "code",
   "execution_count": 3,
   "metadata": {},
   "outputs": [
    {
     "data": {
      "text/plain": [
       "s1: String = Charles\n",
       "s2: String = Mingus\n",
       "composer: String = CharlesMingus\n",
       "fullname: Array[String] = Array(Charles, Mingus)\n",
       "musician: Array[String] = Array(Charles, Mingus, Bass)\n",
       "instrument: String = Bass\n",
       "leader: List[String] = List(Charles, Mingus)\n",
       "band: List[List[String]] = List(List(Charles, Mingus), List(John, Handy, Sax), List(Jimmy, Knepper, trombone))\n",
       "trombonist: String = Jimmy Knepper\n"
      ]
     },
     "execution_count": 3,
     "metadata": {},
     "output_type": "execute_result"
    }
   ],
   "source": [
    "//Strings\n",
    "var s1 : String = \"Charles\" // var is immutable\n",
    "val s2 : String = \"Mingus\" \n",
    "var composer : String = s1 + s2\n",
    "\n",
    "//Arrays\n",
    "val fullname : Array[String] = Array(s1,s2)\n",
    "var musician : Array[String] = new Array(3)\n",
    "\n",
    "//Setting & Accessing Array Elements by index\n",
    "musician(0) = s1\n",
    "musician(1) = s2\n",
    "musician(2) = \"Bass\"\n",
    "val instrument: String = musician(2)\n",
    "\n",
    "//Lists\n",
    "val leader: List[String] = List(s1, s2)\n",
    "val band = List(leader, \n",
    "                List(\"John\", \"Handy\", \"Sax\"), \n",
    "                List(\"Jimmy\", \"Knepper\", \"trombone\")) //type inferred\n",
    "\n",
    "\n",
    "//Accessing List Elements\n",
    "val trombonist = band(2)(0) + \" \" + band(2)(1)\n"
   ]
  },
  {
   "cell_type": "markdown",
   "metadata": {},
   "source": [
    "### Numeric"
   ]
  },
  {
   "cell_type": "raw",
   "metadata": {},
   "source": [
    "var bands : Int = 1\n",
    "var bandSize = 3\n",
    "val iarray2: Array[Int] = Array(1,3)\n",
    "\n",
    "val i2float: Float = 1 \n",
    "val i2doub: Double = 1 + 3\n",
    "val isum : Int = 1 + 3\n",
    "\n",
    "val iarray: Array[Int] = Array(1+3)\n",
    "val farray2: Array[Float] = Array(1,3)"
   ]
  },
  {
   "cell_type": "markdown",
   "metadata": {},
   "source": [
    "### Collections\n",
    "[collecitons overview](https://docs.scala-lang.org/overviews/collections/overview.html)"
   ]
  },
  {
   "cell_type": "code",
   "execution_count": 4,
   "metadata": {},
   "outputs": [
    {
     "data": {
      "text/plain": [
       "firstNames: List[String] = List(Charles, John, Booker, Shafi, Willie, Jimmy, Horace, Dannie)\n",
       "lastNames: List[String] = List(Mingus, Handy, Ervin, Hadi, Dennis, Knepper, Parlan, Richmond)\n",
       "instruments: Array[String] = Array(bass, piano, alto sax, tenor sax, tenor sax, trombone, trombone, piano, drums)\n"
      ]
     },
     "execution_count": 4,
     "metadata": {},
     "output_type": "execute_result"
    }
   ],
   "source": [
    "var firstNames: List[String] = List(\"Charles\", \"John\", \"Booker\", \"Shafi\", \"Willie\", \"Jimmy\", \"Horace\", \"Dannie\")\n",
    "var lastNames: List[String] = List(\"Mingus\", \"Handy\", \"Ervin\", \"Hadi\", \"Dennis\", \"Knepper\", \"Parlan\", \"Richmond\")\n",
    "var instruments = Array(\"bass, piano\", \"alto sax\", \"tenor sax\", \"tenor sax\", \"trombone\", \"trombone\", \"piano\", \"drums\")"
   ]
  },
  {
   "cell_type": "markdown",
   "metadata": {},
   "source": [
    "### Iteration\n",
    "[foreach](https://alvinalexander.com/scala/iterating-scala-lists-foreach-for-comprehension)\n",
    "[yield](https://alvinalexander.com/scala/scala-for-loop-yield-examples-yield-tutorial)"
   ]
  },
  {
   "cell_type": "code",
   "execution_count": 5,
   "metadata": {},
   "outputs": [
    {
     "name": "stdout",
     "output_type": "stream",
     "text": [
      "Using For Comprehension\n",
      "Charles\n",
      "John\n",
      "Booker\n",
      "Shafi\n",
      "Willie\n",
      "Jimmy\n",
      "Horace\n",
      "Dannie\n",
      "\n",
      "Using For Each method\n",
      "Charles\n",
      "John\n",
      "Booker\n",
      "Shafi\n",
      "Willie\n",
      "Jimmy\n",
      "Horace\n",
      "Dannie\n",
      "Using Yield\n"
     ]
    },
    {
     "data": {
      "text/plain": [
       "res1: List[String] = List(Charles AhUm, John AhUm, Booker AhUm, Shafi AhUm, Willie AhUm, Jimmy AhUm, Horace AhUm, Dannie AhUm)\n"
      ]
     },
     "execution_count": 5,
     "metadata": {},
     "output_type": "execute_result"
    }
   ],
   "source": [
    "println(\"Using For Comprehension\")\n",
    "for (name <- firstNames) println(name) //Optionally use () or {} to contain action, mandatory if > 1 commands\n",
    "\n",
    "println(\"\\nUsing For Each method\")\n",
    "firstNames.foreach { println }\n",
    "\n",
    "println(\"Using Yield\")\n",
    "for (name <- firstNames) yield name + \" AhUm\""
   ]
  },
  {
   "cell_type": "markdown",
   "metadata": {},
   "source": [
    "[map](https://stackoverflow.com/questions/17199534/scala-for-loop-over-two-lists-simultaneously)\n",
    "[collection](https://www.scala-lang.org/api/current/scala/collection/index.html)"
   ]
  },
  {
   "cell_type": "code",
   "execution_count": 6,
   "metadata": {},
   "outputs": [
    {
     "data": {
      "text/plain": [
       "bandInfo: List[List[String]] = List(List(Charles, Mingus), List(John, Handy), List(Booker, Ervin), List(Shafi, Hadi), List(Willie, Dennis), List(Jimmy, Knepper), List(Horace, Parlan), List(Dannie, Richmond))\n"
      ]
     },
     "execution_count": 6,
     "metadata": {},
     "output_type": "execute_result"
    }
   ],
   "source": [
    "val bandInfo = for ( (f, l) <- (firstNames zip lastNames)) yield  List(f, l)"
   ]
  },
  {
   "cell_type": "code",
   "execution_count": 7,
   "metadata": {},
   "outputs": [
    {
     "data": {
      "text/plain": [
       "bandInfo: List[List[String]] = List(List(Charles, Mingus), List(John, Handy), List(Booker, Ervin), List(Shafi, Hadi), List(Willie, Dennis), List(Jimmy, Knepper), List(Horace, Parlan), List(Dannie, Richmond))\n"
      ]
     },
     "execution_count": 7,
     "metadata": {},
     "output_type": "execute_result"
    }
   ],
   "source": [
    "val bandInfo = (firstNames zip lastNames).map{ case (f, l) =>  List(f, l)}"
   ]
  },
  {
   "cell_type": "markdown",
   "metadata": {},
   "source": [
    "[index ops](https://alvinalexander.com/scala/list-class-methods-examples-syntax)"
   ]
  },
  {
   "cell_type": "code",
   "execution_count": 8,
   "metadata": {},
   "outputs": [
    {
     "name": "stdout",
     "output_type": "stream",
     "text": [
      "(0,Charles,Mingus,bass, piano)\n",
      "(1,John,Handy,alto sax)\n",
      "(2,Booker,Ervin,tenor sax)\n",
      "(3,Shafi,Hadi,tenor sax)\n",
      "(4,Willie,Dennis,trombone)\n",
      "(5,Jimmy,Knepper,trombone)\n",
      "(6,Horace,Parlan,piano)\n",
      "(7,Dannie,Richmond,drums)\n"
     ]
    },
    {
     "data": {
      "text/plain": [
       "bandSize: List[Int] = List(0, 1, 2, 3, 4, 5, 6, 7)\n"
      ]
     },
     "execution_count": 8,
     "metadata": {},
     "output_type": "execute_result"
    }
   ],
   "source": [
    "val bandSize = (0 to lastNames.size-1).toList\n",
    "for (i <- bandSize) println(i, firstNames(i),lastNames(i), instruments(i))"
   ]
  },
  {
   "cell_type": "code",
   "execution_count": 9,
   "metadata": {},
   "outputs": [
    {
     "data": {
      "text/plain": [
       "bandInfo: List[(String, String, String)] = List((Charles,Mingus,bass, piano), (John,Handy,alto sax), (Booker,Ervin,tenor sax), (Shafi,Hadi,tenor sax), (Willie,Dennis,trombone), (Jimmy,Knepper,trombone), (Horace,Parlan,piano), (Dannie,Richmond,drums))\n"
      ]
     },
     "execution_count": 9,
     "metadata": {},
     "output_type": "execute_result"
    }
   ],
   "source": [
    "val bandInfo = (firstNames, lastNames, instruments).zipped.toList "
   ]
  },
  {
   "cell_type": "markdown",
   "metadata": {},
   "source": [
    "### Create an object\n",
    "[objects](https://alvinalexander.com/scala/how-to-create-scala-object-instances-without-new-apply-case-class)\n",
    "*Companion Object*"
   ]
  },
  {
   "cell_type": "code",
   "execution_count": 10,
   "metadata": {},
   "outputs": [
    {
     "data": {
      "text/plain": [
       "defined class Band\n",
       "defined object Band\n"
      ]
     },
     "execution_count": 10,
     "metadata": {},
     "output_type": "execute_result"
    }
   ],
   "source": [
    "class Band {\n",
    "    var genre: String = _\n",
    "    var name: String = _\n",
    "}\n",
    "\n",
    "object Band {\n",
    "    def apply(genre: String, name: String): Band = {\n",
    "        var b = new Band\n",
    "        b.genre = genre\n",
    "        b.name = name\n",
    "        b\n",
    "    }\n",
    "}"
   ]
  },
  {
   "cell_type": "code",
   "execution_count": 11,
   "metadata": {},
   "outputs": [
    {
     "name": "stdout",
     "output_type": "stream",
     "text": [
      "(Jazz,The Mingus Octect)\n"
     ]
    },
    {
     "data": {
      "text/plain": [
       "band: Band = Band@362aa89f\n"
      ]
     },
     "execution_count": 11,
     "metadata": {},
     "output_type": "execute_result"
    }
   ],
   "source": [
    "val band = Band(\"Jazz\", \"The Mingus Octect\")\n",
    "println(band.genre, band.name)"
   ]
  },
  {
   "cell_type": "markdown",
   "metadata": {},
   "source": [
    "### Add a list to the object"
   ]
  },
  {
   "cell_type": "code",
   "execution_count": 12,
   "metadata": {},
   "outputs": [
    {
     "data": {
      "text/plain": [
       "defined class Band\n",
       "defined object Band\n"
      ]
     },
     "execution_count": 12,
     "metadata": {},
     "output_type": "execute_result"
    }
   ],
   "source": [
    "class Band {\n",
    "    var genre: String = _\n",
    "    var name: String = _\n",
    "    var members: List[(String, String)] = _    //List\n",
    "    var instruments: Array[String] = _         //Array\n",
    "}\n",
    "\n",
    "object Band {\n",
    "    def apply(genre: String, name: String, members:List[(String, String)],instruments:Array[String]): Band = {\n",
    "        var b = new Band\n",
    "        b.genre = genre\n",
    "        b.name = name\n",
    "        b.members=members\n",
    "        b.instruments=instruments\n",
    "        b\n",
    "    }\n",
    "}"
   ]
  },
  {
   "cell_type": "code",
   "execution_count": 13,
   "metadata": {},
   "outputs": [
    {
     "data": {
      "text/plain": [
       "members: List[(String, String)] = List((Charles,Mingus), (John,Handy), (Booker,Ervin), (Shafi,Hadi), (Willie,Dennis), (Jimmy,Knepper), (Horace,Parlan), (Dannie,Richmond))\n",
       "theBand: Band = Band@26d5f02d\n"
      ]
     },
     "execution_count": 13,
     "metadata": {},
     "output_type": "execute_result"
    }
   ],
   "source": [
    "val members = (firstNames, lastNames).zipped.toList \n",
    "val theBand = Band(\"Jazz\", \"Mingus Group\", members, instruments)"
   ]
  },
  {
   "cell_type": "code",
   "execution_count": 14,
   "metadata": {},
   "outputs": [
    {
     "name": "stdout",
     "output_type": "stream",
     "text": [
      "((Charles,Mingus),bass, piano)\n",
      "((John,Handy),alto sax)\n",
      "((Booker,Ervin),tenor sax)\n",
      "((Shafi,Hadi),tenor sax)\n",
      "((Willie,Dennis),trombone)\n",
      "((Jimmy,Knepper),trombone)\n",
      "((Horace,Parlan),piano)\n",
      "((Dannie,Richmond),drums)\n"
     ]
    }
   ],
   "source": [
    "(theBand.members, theBand.instruments).zipped.toList foreach(println)"
   ]
  },
  {
   "cell_type": "markdown",
   "metadata": {},
   "source": [
    "That was cool (..didn't think it would work)"
   ]
  },
  {
   "cell_type": "code",
   "execution_count": 15,
   "metadata": {},
   "outputs": [
    {
     "data": {
      "text/plain": [
       "bandData: List[((String, String), String)] = List(((Charles,Mingus),bass, piano), ((John,Handy),alto sax), ((Booker,Ervin),tenor sax), ((Shafi,Hadi),tenor sax), ((Willie,Dennis),trombone), ((Jimmy,Knepper),trombone), ((Horace,Parlan),piano), ((Dannie,Richmond),drums))\n"
      ]
     },
     "execution_count": 15,
     "metadata": {},
     "output_type": "execute_result"
    }
   ],
   "source": [
    "val bandData =  (theBand.members, theBand.instruments).zipped.toList "
   ]
  },
  {
   "cell_type": "code",
   "execution_count": 16,
   "metadata": {},
   "outputs": [
    {
     "data": {
      "text/plain": [
       "res5: String = scala.Tuple2\n"
      ]
     },
     "execution_count": 16,
     "metadata": {},
     "output_type": "execute_result"
    }
   ],
   "source": [
    "bandData(0).getClass.getName"
   ]
  },
  {
   "cell_type": "code",
   "execution_count": 17,
   "metadata": {},
   "outputs": [
    {
     "data": {
      "text/plain": [
       "bandTuple: List[String] =\n",
       "List((Charles,Mingus)\n",
       "bass, piano, (John,Handy)\n",
       "alto sax, (Booker,Ervin)\n",
       "tenor sax, (Shafi,Hadi)\n",
       "tenor sax, (Willie,Dennis)\n",
       "trombone, (Jimmy,Knepper)\n",
       "trombone, (Horace,Parlan)\n",
       "piano, (Dannie,Richmond)\n",
       "drums)\n"
      ]
     },
     "execution_count": 17,
     "metadata": {},
     "output_type": "execute_result"
    }
   ],
   "source": [
    "val bandTuple = bandData.map{ tuple => tuple.productIterator.mkString(\"\\n\")}"
   ]
  },
  {
   "cell_type": "code",
   "execution_count": 18,
   "metadata": {},
   "outputs": [
    {
     "name": "stdout",
     "output_type": "stream",
     "text": [
      "(Charles,Mingus)\n",
      "bass, piano\n"
     ]
    },
    {
     "data": {
      "text/plain": [
       "res6: String =\n",
       "Charles,Mingus\n",
       "bass, piano\n"
      ]
     },
     "execution_count": 18,
     "metadata": {},
     "output_type": "execute_result"
    }
   ],
   "source": [
    "println(bandTuple(0))\n",
    "bandTuple(0).replaceAll(\"[()]\",\"\")"
   ]
  },
  {
   "cell_type": "markdown",
   "metadata": {},
   "source": [
    "### Write Text File\n",
    "[writer](http://otfried.org/scala/writing_files.html)"
   ]
  },
  {
   "cell_type": "code",
   "execution_count": 23,
   "metadata": {},
   "outputs": [
    {
     "data": {
      "text/plain": [
       "import java.io.PrintWriter\n",
       "s: java.io.PrintWriter = java.io.PrintWriter@57852c81\n",
       "bandData: List[((String, String), String)] = List(((Charles,Mingus),bass, piano), ((John,Handy),alto sax), ((Booker,Ervin),tenor sax), ((Shafi,Hadi),tenor sax), ((Willie,Dennis),trombone), ((Jimmy,Knepper),trombone), ((Horace,Parlan),piano), ((Dannie,Richmond),drums))\n",
       "txt_fromat: List[String] =\n",
       "List(\"\n",
       "Charles,Mingus\tbass, piano\", \"\n",
       "John,Handy\talto sax\", \"\n",
       "Booker,Ervin\ttenor sax\", \"\n",
       "Shafi,Hadi\ttenor sax\", \"\n",
       "Willie,Dennis\ttrombone\", \"\n",
       "Jimmy,Knepper\ttrombone\", \"\n",
       "Horace,Parlan\tpiano\", \"\n",
       "Dannie,Richmond\tdrums\")\n"
      ]
     },
     "execution_count": 23,
     "metadata": {},
     "output_type": "execute_result"
    }
   ],
   "source": [
    "import java.io.PrintWriter\n",
    "val s = new PrintWriter(\"TheBand.txt\")\n",
    "val bandData = (theBand.members, theBand.instruments).zipped.toList\n",
    "s.print(\"Member\\tInstrument\")\n",
    "val txt_fromat = bandData.map{ tuple => \"\\n\"+tuple.productIterator.mkString(\"\\t\").replaceAll(\"[()']\",\"\")} \n",
    "\n",
    "txt_fromat.foreach(s.print)\n",
    "s.close()"
   ]
  }
 ],
 "metadata": {
  "kernelspec": {
   "display_name": "spylon-kernel",
   "language": "scala",
   "name": "spylon-kernel"
  },
  "language_info": {
   "codemirror_mode": "text/x-scala",
   "file_extension": ".scala",
   "help_links": [
    {
     "text": "MetaKernel Magics",
     "url": "https://github.com/calysto/metakernel/blob/master/metakernel/magics/README.md"
    }
   ],
   "mimetype": "text/x-scala",
   "name": "scala",
   "pygments_lexer": "scala",
   "version": "0.4.1"
  }
 },
 "nbformat": 4,
 "nbformat_minor": 2
}
